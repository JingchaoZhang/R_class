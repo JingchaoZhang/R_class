
## Exercise 3
In the videos you looked at how you would improve Fashion MNIST using Convolutions. For your exercise see if you can improve MNIST to 99.8% accuracy or more using only a single convolutional layer and a single MaxPooling 2D. You should stop training once the accuracy goes above this amount. It should happen in less than 20 epochs, so it's ok to hard code the number of epochs for training, but your training must end once it hits the above metric. If it doesn't, then you'll need to redesign your layers.

I've started the code for you -- you need to finish it!

When 99.8% accuracy has been hit, you should print out the string "Reached 99.8% accuracy so cancelling training!"



```python
import tensorflow as tf
from os import path, getcwd, chdir

# DO NOT CHANGE THE LINE BELOW. If you are developing in a local
# environment, then grab mnist.npz from the Coursera Jupyter Notebook
# and place it inside a local folder and edit the path to that location
path = f"{getcwd()}/../tmp2/mnist.npz"
```


```python
config = tf.ConfigProto()
config.gpu_options.allow_growth = True
sess = tf.Session(config=config)

```


```python
import tensorflow as tf
mnist = tf.keras.datasets.mnist
(training_images, training_labels), (test_images, test_labels) = mnist.load_data(path=path)
s1 = training_images.shape
training_images.reshape(s1[0],s1[1],s1[2],1).shape
training_labels.shape
```




    (60000,)




```python
# GRADED FUNCTION: train_mnist_conv
def train_mnist_conv():
    # Please write your code only where you are indicated.
    # please do not remove model fitting inline comments.

    # YOUR CODE STARTS HERE
    import tensorflow as tf
    print(tf.__version__)
    class myCallback(tf.keras.callbacks.Callback):
        def on_epoch_end(self, epoch, logs={}):
            if(logs.get('acc') is not None and logs.get('acc') > 0.998):
                print("\nReached 99.8% accuracy so cancelling training!")
                self.model.stop_training = True
                
    callbacks = myCallback()
    
    # YOUR CODE ENDS HERE

    mnist = tf.keras.datasets.mnist
    (training_images, training_labels), (test_images, test_labels) = mnist.load_data(path=path)
    s1 = training_images.shape
    s3 = test_images.shape

    training_images = training_images.reshape(s1[0],s1[1],s1[2],1)
    test_images = test_images.reshape(s3[0],s3[1],s3[2],1)
    # YOUR CODE STARTS HERE
    training_images = training_images/255.0
    test_images = test_images/255.0
    # YOUR CODE ENDS HERE

    model = tf.keras.models.Sequential([
            # YOUR CODE STARTS HERE
        tf.keras.layers.Conv2D(16, (3,3), activation='relu', input_shape=(28,28,1)),
        tf.keras.layers.MaxPooling2D(pool_size=(4, 4)),
        tf.keras.layers.Flatten(),
        tf.keras.layers.Dense(128, activation=tf.nn.relu),
        tf.keras.layers.Dense(10, activation=tf.nn.softmax)

            # YOUR CODE ENDS HERE
    ])

    model.compile(optimizer='adam', loss='sparse_categorical_crossentropy', metrics=['accuracy'])
    # model fitting
    history = model.fit(
        # YOUR CODE STARTS HERE
        training_images,
        training_labels,
        epochs=20,
        callbacks=[callbacks]

        # YOUR CODE ENDS HERE
    )
    # model fitting
    return history.epoch, history.history['acc'][-1]


```


```python
_, _ = train_mnist_conv()
```

    1.14.0
    Epoch 1/20
    60000/60000 [==============================] - 12s 208us/sample - loss: 0.2156 - acc: 0.9377
    Epoch 2/20
    60000/60000 [==============================] - 13s 209us/sample - loss: 0.0758 - acc: 0.9770
    Epoch 3/20
    60000/60000 [==============================] - 12s 208us/sample - loss: 0.0563 - acc: 0.9823 - loss: 0.0557
    Epoch 4/20
    60000/60000 [==============================] - 13s 213us/sample - loss: 0.0447 - acc: 0.9860
    Epoch 5/20
    60000/60000 [==============================] - 12s 195us/sample - loss: 0.0365 - acc: 0.9881
    Epoch 6/20
    60000/60000 [==============================] - 12s 193us/sample - loss: 0.0305 - acc: 0.9902
    Epoch 7/20
    60000/60000 [==============================] - 12s 202us/sample - loss: 0.0245 - acc: 0.9923
    Epoch 8/20
    60000/60000 [==============================] - 12s 195us/sample - loss: 0.0199 - acc: 0.9937
    Epoch 9/20
    60000/60000 [==============================] - 11s 190us/sample - loss: 0.0175 - acc: 0.9945
    Epoch 10/20
    60000/60000 [==============================] - 12s 195us/sample - loss: 0.0148 - acc: 0.9951
    Epoch 11/20
    60000/60000 [==============================] - 12s 197us/sample - loss: 0.0122 - acc: 0.9961
    Epoch 12/20
    60000/60000 [==============================] - 11s 187us/sample - loss: 0.0099 - acc: 0.9965
    Epoch 13/20
    60000/60000 [==============================] - 11s 187us/sample - loss: 0.0096 - acc: 0.9969
    Epoch 14/20
    60000/60000 [==============================] - 11s 188us/sample - loss: 0.0079 - acc: 0.9976
    Epoch 15/20
    60000/60000 [==============================] - 11s 191us/sample - loss: 0.0071 - acc: 0.9976
    Epoch 16/20
    59808/60000 [============================>.] - ETA: 0s - loss: 0.0057 - acc: 0.9982
    Reached 99.8% accuracy so cancelling training!
    60000/60000 [==============================] - 11s 188us/sample - loss: 0.0057 - acc: 0.9982



```python
# Now click the 'Submit Assignment' button above.
# Once that is complete, please run the following two cells to save your work and close the notebook
```


```javascript
%%javascript
<!-- Save the notebook -->
IPython.notebook.save_checkpoint();
```


```javascript
%%javascript
IPython.notebook.session.delete();
window.onbeforeunload = null
setTimeout(function() { window.close(); }, 1000);
```
